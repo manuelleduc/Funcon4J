{
 "cells": [
  {
   "cell_type": "code",
   "execution_count": 1,
   "metadata": {},
   "outputs": [],
   "source": [
    "%matplotlib inline\n",
    "\n",
    "import pandas as pd\n",
    "import matplotlib.pyplot as plt\n",
    "import numpy as np\n",
    "import scipy.stats as stats\n",
    "import math\n",
    "import seaborn as sns\n",
    "import json\n",
    "import re\n",
    "\n",
    "sns.set()\n",
    "sns.set_palette(sns.color_palette(\"muted\"))"
   ]
  },
  {
   "cell_type": "code",
   "execution_count": 19,
   "metadata": {},
   "outputs": [
    {
     "name": "stdout",
     "output_type": "stream",
     "text": [
      "performanceTests/fib.ml\n",
      "0.52 +- 0.02 ops/s\n",
      "performanceTests/harmonic.ml\n",
      "0.2 +- 0.01 ops/s\n"
     ]
    }
   ],
   "source": [
    "with open('/home/manuel/dev/java/Funcon4J/benchmarks/truffle.json') as json_file:\n",
    "    content = json.load(json_file)\n",
    "for bench in content:\n",
    "    print(bench['params']['fileLoc'])\n",
    "    score = round(bench['primaryMetric']['score'],2)\n",
    "    error = round(bench['primaryMetric']['scoreError'],2)\n",
    "    print(str(score) + ' +- ' + str(error) + ' ops/s')\n",
    "    #print(bench['primaryMetric'])\n",
    "    "
   ]
  },
  {
   "cell_type": "code",
   "execution_count": 20,
   "metadata": {},
   "outputs": [
    {
     "name": "stdout",
     "output_type": "stream",
     "text": [
      "performanceTests/fib.ml\n",
      "0.41 +- 0.01 ops/s\n",
      "performanceTests/harmonic.ml\n",
      "0.08 +- 0.0 ops/s\n"
     ]
    }
   ],
   "source": [
    "with open('/home/manuel/dev/java/Funcon4J/benchmarks/original.json') as json_file:\n",
    "    content = json.load(json_file)\n",
    "for bench in content:\n",
    "    print(bench['params']['fileLoc'])\n",
    "    score = round(bench['primaryMetric']['score'],2)\n",
    "    error = round(bench['primaryMetric']['scoreError'],2)\n",
    "    print(str(score) + ' +- ' + str(error) + ' ops/s')\n",
    "    "
   ]
  }
 ],
 "metadata": {
  "kernelspec": {
   "display_name": "Python 3",
   "language": "python",
   "name": "python3"
  },
  "language_info": {
   "codemirror_mode": {
    "name": "ipython",
    "version": 3
   },
   "file_extension": ".py",
   "mimetype": "text/x-python",
   "name": "python",
   "nbconvert_exporter": "python",
   "pygments_lexer": "ipython3",
   "version": "3.6.7"
  }
 },
 "nbformat": 4,
 "nbformat_minor": 2
}
